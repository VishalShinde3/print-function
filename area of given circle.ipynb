{
  "nbformat": 4,
  "nbformat_minor": 0,
  "metadata": {
    "colab": {
      "provenance": [],
      "authorship_tag": "ABX9TyPzEclR1MlRklCr/NgRTf1k",
      "include_colab_link": true
    },
    "kernelspec": {
      "name": "python3",
      "display_name": "Python 3"
    },
    "language_info": {
      "name": "python"
    }
  },
  "cells": [
    {
      "cell_type": "markdown",
      "metadata": {
        "id": "view-in-github",
        "colab_type": "text"
      },
      "source": [
        "<a href=\"https://colab.research.google.com/github/VishalShinde3/print-function/blob/main/area%20of%20given%20circle.ipynb\" target=\"_parent\"><img src=\"https://colab.research.google.com/assets/colab-badge.svg\" alt=\"Open In Colab\"/></a>"
      ]
    },
    {
      "cell_type": "code",
      "execution_count": 3,
      "metadata": {
        "colab": {
          "base_uri": "https://localhost:8080/"
        },
        "id": "V2T28yo5o0V-",
        "outputId": "c1aa33e2-9f7d-40d6-c24a-660e5b1bf2d6"
      },
      "outputs": [
        {
          "output_type": "stream",
          "name": "stdout",
          "text": [
            "enter the given circle radius45\n",
            "the area of given circle is: 6358.500000000001\n"
          ]
        }
      ],
      "source": [
        "Radius=float(input(\"enter the given circle radius\"))\n",
        "pi=3.14\n",
        "area_of_circle=pi*Radius*Radius\n",
        "print(\"the area of given circle is:\",area_of_circle)"
      ]
    }
  ]
}