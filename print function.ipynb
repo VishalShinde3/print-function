{
  "nbformat": 4,
  "nbformat_minor": 0,
  "metadata": {
    "colab": {
      "provenance": [],
      "authorship_tag": "ABX9TyPrnaaJ/ixIi9Kcusp7Xxvy",
      "include_colab_link": true
    },
    "kernelspec": {
      "name": "python3",
      "display_name": "Python 3"
    },
    "language_info": {
      "name": "python"
    }
  },
  "cells": [
    {
      "cell_type": "markdown",
      "metadata": {
        "id": "view-in-github",
        "colab_type": "text"
      },
      "source": [
        "<a href=\"https://colab.research.google.com/github/VishalShinde3/print-function/blob/main/print%20function.ipynb\" target=\"_parent\"><img src=\"https://colab.research.google.com/assets/colab-badge.svg\" alt=\"Open In Colab\"/></a>"
      ]
    },
    {
      "cell_type": "code",
      "execution_count": 6,
      "metadata": {
        "colab": {
          "base_uri": "https://localhost:8080/"
        },
        "id": "62e7BHZzjVOX",
        "outputId": "89681bf8-f487-49ae-ce95-bad0958cfba3"
      },
      "outputs": [
        {
          "output_type": "stream",
          "name": "stdout",
          "text": [
            "data science\n"
          ]
        }
      ],
      "source": [
        "# basic print function\n",
        "a=\"data science\"\n",
        "print(a)\n"
      ]
    },
    {
      "cell_type": "code",
      "source": [
        "a=10\n",
        "b=45\n",
        "c=a+b\n",
        "print(c)"
      ],
      "metadata": {
        "colab": {
          "base_uri": "https://localhost:8080/"
        },
        "id": "ljZnLCUQjsKS",
        "outputId": "ba0062f2-8f9f-4cd0-acf3-04304b27c367"
      },
      "execution_count": 7,
      "outputs": [
        {
          "output_type": "stream",
          "name": "stdout",
          "text": [
            "55\n"
          ]
        }
      ]
    },
    {
      "cell_type": "code",
      "source": [
        "a=True\n",
        "print(type(a))"
      ],
      "metadata": {
        "colab": {
          "base_uri": "https://localhost:8080/"
        },
        "id": "QiRv6rfslZd3",
        "outputId": "932f7262-332e-4586-bc07-e6e815f6431e"
      },
      "execution_count": 10,
      "outputs": [
        {
          "output_type": "stream",
          "name": "stdout",
          "text": [
            "<class 'bool'>\n"
          ]
        }
      ]
    },
    {
      "cell_type": "code",
      "source": [
        "a=int(input(\"first no\"))\n",
        "b=int(input(\"second no\"))\n",
        "c=int(input(\"third no\"))\n",
        "d=a+b*c\n",
        "print(d])\n"
      ],
      "metadata": {
        "colab": {
          "base_uri": "https://localhost:8080/"
        },
        "id": "BWPWOQ4Wlvp0",
        "outputId": "35437c5b-0c5c-4b23-c1a3-cb44e395cfbc"
      },
      "execution_count": 11,
      "outputs": [
        {
          "output_type": "stream",
          "name": "stdout",
          "text": [
            "first no45\n",
            "second no56\n",
            "third no78\n",
            "4413\n"
          ]
        }
      ]
    },
    {
      "cell_type": "code",
      "source": [],
      "metadata": {
        "id": "cr5Ja5B-mTpK"
      },
      "execution_count": null,
      "outputs": []
    }
  ]
}